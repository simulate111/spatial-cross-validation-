{
  "cells": [
    {
      "cell_type": "markdown",
      "metadata": {
        "id": "view-in-github",
        "colab_type": "text"
      },
      "source": [
        "<a href=\"https://colab.research.google.com/github/simulate111/spatial-cross-validation-/blob/main/EMLM2024_exercise3_template.ipynb\" target=\"_parent\"><img src=\"https://colab.research.google.com/assets/colab-badge.svg\" alt=\"Open In Colab\"/></a>"
      ]
    },
    {
      "cell_type": "markdown",
      "metadata": {
        "id": "Z3dQad7mO3yj"
      },
      "source": [
        "# Exercise 3 | TKO_7092 Evaluation of Machine Learning Methods 2024\n",
        "## deadline: 14.2.2024 - 23:59\n",
        "\n",
        "Regarding any questions about this exercise, please contact course assistant Jonne Pohjankukka (jjepoh@utu.fi)\n",
        "\n",
        "********************************************\n",
        "\n",
        "Student name: Mohammadreza Akhtari\n",
        "\n",
        "Student number: 2304399\n",
        "\n",
        "Student email: mohammadreza.akhtari@utu.fi\n",
        "\n",
        "********************************************"
      ]
    },
    {
      "cell_type": "markdown",
      "metadata": {
        "id": "duqlyv2UO3yl"
      },
      "source": [
        "## Water permeability prediction in forestry <br>\n",
        "\n",
        "In this task, the client wants you to estimate the spatial prediction performance of K-nearest neighbor regression model with K=15 (15NN), using spatial leave-one-out cross-validation (i.e. SKCV, with number of folds == number of data points). The client wants you to use the C-index as the performance measure.  \n",
        "\n",
        "In other words, the client wants you to answer the question: \"What happens to the prediction performance of water permeability using 15-nearest neighbor regression model, when the geographical distance between known data and unknown data increases?\".\n",
        "\n",
        "In this task, you have three data files available (with 1691 data points):\n",
        "\n",
        "- input.csv, contains the 75 predictor features.\n",
        "- output.csv, contains the water permebility values.\n",
        "- coordinates.csv, contains the corresponding geographical coordinate locations of the data points. The unit of the coordinates is metre, and you can use Euclidean distance to calculate distances between the coordinate points.\n",
        "\n",
        "Implement the following tasks to complete this exercise:\n",
        "\n",
        "********************************************\n",
        "\n",
        "#### 1. Z-score standardize the predictor features (input.csv).\n",
        "\n",
        "#### 2. Perform spatial leave-one-out cross-validation with 15NN model for the provided data set (refer to the lectures 3.1.3 and 3.1.4 for help). Estimate the water permeability prediction performance (using 15NN model and C-index) with the following distance parameter values: d = 0, 10, 20, ..., 250 (that is, 10 meter intervals from 0m to 250m).\n",
        "\n",
        "#### 3. When you have calculated the C-index performance measure for each value of d, visualize the results with the C-index (y-axis) as a function of d (x-axis).\n",
        "\n",
        "********************************************\n",
        "\n",
        "Your .ipynb-file must include the following:\n",
        "\n",
        "- Your own implementation of the spatial leave-one-out cross-validation for the current task. You can use third-party libraries (e.g. Scikit-learn) if you want for implementing e.g. the 15-nearest neighbor. Also, try to follow good programming practices and add comments to relevant parts of your code explaining what you are doing and why.\n",
        "\n",
        "\n",
        "- Plot of the graph C-index vs. distance parameter value.\n",
        "\n",
        "\n",
        "<br><br><br>\n",
        "-- START IMPLEMENTING YOUR EXERCISE AFTER THIS LINE --\n",
        "<br><br><br>"
      ]
    },
    {
      "cell_type": "markdown",
      "metadata": {
        "id": "jK7QNNJNO3yl"
      },
      "source": [
        "### Import necessary libraries"
      ]
    },
    {
      "cell_type": "code",
      "execution_count": 1,
      "metadata": {
        "id": "YhfUGhFTO3yl"
      },
      "outputs": [],
      "source": [
        "#from google.colab import drive\n",
        "#drive.mount('/content/drive')\n",
        "\n",
        "#'/content/drive/MyDrive/Colab Notebooks/*****.csv'"
      ]
    },
    {
      "cell_type": "code",
      "execution_count": 2,
      "metadata": {
        "id": "DkdN_HBuO3ym"
      },
      "outputs": [],
      "source": [
        "# In this cell, import all the libraries that you need. For example:\n",
        "import numpy as np\n",
        "import pandas as pd\n",
        "from sklearn.preprocessing import StandardScaler\n",
        "from sklearn.neighbors import KNeighborsRegressor\n",
        "import matplotlib.pyplot as plt"
      ]
    },
    {
      "cell_type": "markdown",
      "metadata": {
        "id": "5dzwbTNgO3ym"
      },
      "source": [
        "### Read in the datasets"
      ]
    },
    {
      "cell_type": "code",
      "execution_count": 3,
      "metadata": {
        "colab": {
          "base_uri": "https://localhost:8080/"
        },
        "id": "8V0GBBO8O3ym",
        "outputId": "8fc939ce-bddc-4b93-d7b8-209a5b2481f6"
      },
      "outputs": [
        {
          "output_type": "stream",
          "name": "stdout",
          "text": [
            "Input Dimensions: (1690, 75)\n",
            "Output Dimensions: (1690, 1)\n",
            "Coordinates Dimensions: (1690, 2)\n"
          ]
        }
      ],
      "source": [
        "# In this cell, read the files input.csv, output.csv and coordinates.csv.\n",
        "# Print out the dataset dimesions (i.e. number of rows and columns).\n",
        "\n",
        "#input_data = pd.read_csv('/content/drive/MyDrive/Colab Notebooks/input.csv')\n",
        "#output_data = pd.read_csv('/content/drive/MyDrive/Colab Notebooks/output.csv')\n",
        "#coordinates_data = pd.read_csv('/content/drive/MyDrive/Colab Notebooks/coordinates.csv'\n",
        "\n",
        "# Dataset is now stored in a Pandas Dataframe\n",
        "input_data = pd.read_csv('https://raw.githubusercontent.com/simulate111/spatial-cross-validation-/main/input.csv')\n",
        "output_data = pd.read_csv('https://raw.githubusercontent.com/simulate111/spatial-cross-validation-/main/output.csv')\n",
        "coordinates_data = pd.read_csv('https://raw.githubusercontent.com/simulate111/spatial-cross-validation-/main/coordinates.csv')\n",
        "\n",
        "#input_data = pd.read_csv('input.csv')\n",
        "#output_data = pd.read_csv('output.csv')\n",
        "#coordinates_data = pd.read_csv('coordinates.csv')\n",
        "\n",
        "print(\"Input Dimensions:\", input_data.shape)\n",
        "print(\"Output Dimensions:\", output_data.shape)\n",
        "print(\"Coordinates Dimensions:\", coordinates_data.shape)"
      ]
    },
    {
      "cell_type": "markdown",
      "metadata": {
        "id": "o47u_ss4O3yn"
      },
      "source": [
        "### Standardization of the predictor features (input.csv)"
      ]
    },
    {
      "cell_type": "code",
      "execution_count": 4,
      "metadata": {
        "id": "4XvdlouvO3yn",
        "outputId": "4860f315-b392-4d05-96cb-b2661fdc1acd",
        "colab": {
          "base_uri": "https://localhost:8080/"
        }
      },
      "outputs": [
        {
          "output_type": "stream",
          "name": "stdout",
          "text": [
            "[[-0.63194304 -0.68274158 -0.28531684 -0.36907001 -0.13806835  2.48935803\n",
            "   2.05141023 -0.03442142 -0.24694475 -0.22655491  0.23212124  0.39795833\n",
            "   2.29344752 -0.36198775 -0.64597904 -0.53789276 -0.18981681 -0.09700344\n",
            "   0.12200587  0.0460182  -0.50653197 -0.50755126  0.66238311  0.21109815\n",
            "   0.09878869 -0.33900037 -0.33113744 -0.38695299  1.56385826 -1.02589982\n",
            "   0.97314189  0.48233271 -0.44962342 -0.52103281 -0.60907055  0.12456425\n",
            "  -0.40429457 -0.48768864 -0.51020338 -1.02092059  1.10618653  0.48616006\n",
            "   0.7436411  -0.39903131 -0.433614   -1.22803317 -1.21885146 -0.33964181\n",
            "  -0.68600294 -0.6080544  -0.58676431 -0.42160441 -0.41892515 -0.7583583\n",
            "   0.25032361 -0.1511417  -1.1368568   3.40261415  1.95010218 -0.40486028\n",
            "  -0.70485939 -0.38572787 -0.69022743 -0.71967193  0.33246505  0.21960898\n",
            "  -0.16890426 -0.64552416  2.47459642 -0.44724807 -0.28853952 -0.03585731\n",
            "  -1.48160969 -1.08815201 -0.46164481]\n",
            " [-0.67481201 -0.59738256 -0.56840374 -0.98267386 -0.82801753 -0.4957213\n",
            "  -0.45073838 -0.03442142 -0.32495451 -0.62705471 -0.45309256 -0.74195621\n",
            "   0.57395539 -0.34583591 -0.52966703 -0.53789276 -0.18981681 -0.09700344\n",
            "  -0.74707706 -1.00219645 -1.48082339 -1.41589518  1.19333684  0.60624546\n",
            "  -1.015367   -0.33900037 -0.33113744 -0.38695299 -0.41437562 -1.02589982\n",
            "  -0.31775636  1.46499053  1.47408186 -0.52103281 -0.15161944 -0.5354684\n",
            "  -0.40429457 -0.48768864 -0.51020338 -1.02092059 -0.16068661  0.48616006\n",
            "   3.20064576  1.1336054   0.05004892  0.16587348 -0.34068132  1.55616722\n",
            "   3.79426624  1.14584261 -0.58676431 -0.42160441  2.55579544 -0.7583583\n",
            "   1.5095301  -0.1511417  -1.1368568  -0.53064024 -0.44326941 -0.40486028\n",
            "  -0.70485939 -0.38572787  1.00276997  1.59251208  1.68323289 -1.04729946\n",
            "  -0.87713334 -0.64552416 -0.52011303 -0.44724807 -0.37491579 -0.1590257\n",
            "   0.3497797   0.13415936 -0.80939967]]\n"
          ]
        }
      ],
      "source": [
        "# Standardize the predictor features (input.csv) by removing the mean and scaling to unit variance.\n",
        "# In other words, z-score the predictor features. You are allowed to use third-party libraries for doing this.\n",
        "# Standardize the predictor features (input.csv) by removing the mean and scaling to unit variance.\n",
        "standardization= StandardScaler()\n",
        "input_data_standardized = standardization.fit_transform(input_data)\n",
        "\n",
        "# Print the first few rows of the standardized input data\n",
        "print(input_data_standardized[:2])"
      ]
    },
    {
      "cell_type": "markdown",
      "metadata": {
        "id": "BNov3qH4O3yn"
      },
      "source": [
        "### Functions and analysis code"
      ]
    },
    {
      "cell_type": "code",
      "execution_count": 5,
      "metadata": {
        "id": "yXB4lDimO3yn"
      },
      "outputs": [],
      "source": [
        "# Include here all the functions and other relevant code that you need in order to implement the task.\n",
        "\n",
        "# Note! Utilize the following two functions in your implementation:\n",
        "\n",
        "### Function for calculating C-index ###\n",
        "# y: array containing true label values.\n",
        "# yp: array containing the predicted label values.\n",
        "def cindex(y, yp):\n",
        "    n = 0\n",
        "    h_num = 0\n",
        "    for i in range(0, len(y)):\n",
        "        t = y[i]\n",
        "        p = yp[i]\n",
        "        for j in range(i+1, len(y)):\n",
        "            nt = y[j]\n",
        "            np = yp[j]\n",
        "            if (t != nt):\n",
        "                n = n + 1\n",
        "                if (p < np and t < nt) or (p > np and t > nt):\n",
        "                    h_num += 1\n",
        "                elif (p == np):\n",
        "                    h_num += 0.5\n",
        "    return h_num/n\n",
        "\n",
        "\n",
        "### Function for calculating the pairwise spatial distances between the data points ###\n",
        "# The function will return a n-by-n matrix of Euclidean distances. For example, the\n",
        "# distance_matrix element at indices i,j will contain the spatial distance between\n",
        "# data point i and j. Note that the element value is 0 always when i==j.\n",
        "# coordinate_array: n-by-2 array containing the coordinates of the exercise data points.\n",
        "def cdists(coordinate_array):\n",
        "    number_of_observations = coordinate_array.shape[0]\n",
        "    distance_matrix = np.zeros((number_of_observations, number_of_observations))\n",
        "    for i in range(0, number_of_observations):\n",
        "        distance_matrix[i, :] = np.sqrt(np.sum((coordinate_array - coordinate_array[i])**2, axis=1))\n",
        "    return distance_matrix"
      ]
    },
    {
      "cell_type": "markdown",
      "metadata": {
        "id": "4b7NC9qwO3yn"
      },
      "source": [
        "### Results for spatial leave-one-out cross-validation with 15-nearest neighbor regression model"
      ]
    },
    {
      "cell_type": "code",
      "execution_count": 6,
      "metadata": {
        "colab": {
          "base_uri": "https://localhost:8080/",
          "height": 273
        },
        "id": "FqHqhtoeO3yn",
        "outputId": "f0b746de-8dac-4a9b-cabc-5499b8203ff9"
      },
      "outputs": [
        {
          "output_type": "display_data",
          "data": {
            "text/plain": [
              "(1690, 1690)"
            ]
          },
          "metadata": {}
        },
        {
          "output_type": "execute_result",
          "data": {
            "text/plain": [
              "          0            1            2            3            4     \\\n",
              "0     0.000000   540.832691   540.832691   672.011905  1712.337584   \n",
              "1   540.832691     0.000000     0.000000   134.536240  1906.724941   \n",
              "2   540.832691     0.000000     0.000000   134.536240  1906.724941   \n",
              "3   672.011905   134.536240   134.536240     0.000000  2001.224625   \n",
              "4  1712.337584  1906.724941  1906.724941  2001.224625     0.000000   \n",
              "\n",
              "          5            6            7            8            9     ...  \\\n",
              "0  1820.027472  8384.515490  8387.514531  8414.992573  8414.992573  ...   \n",
              "1  2009.975124  8551.818520  8554.232870  8576.456145  8576.456145  ...   \n",
              "2  2009.975124  8551.818520  8554.232870  8576.456145  8576.456145  ...   \n",
              "3  2102.878979  8627.914000  8630.202779  8651.294701  8651.294701  ...   \n",
              "4   107.703296  6676.076692  6678.929555  6705.221846  6705.221846  ...   \n",
              "\n",
              "           1680          1681          1682          1683          1684  \\\n",
              "0  49110.101812  49492.525698  50040.399679  50952.084354  52183.799210   \n",
              "1  48661.644033  49046.524851  49590.100827  50512.081723  51727.830034   \n",
              "2  48661.644033  49046.524851  49590.100827  50512.081723  51727.830034   \n",
              "3  48572.573537  48958.273050  49500.404039  50425.807877  51636.197575   \n",
              "4  48523.190332  48892.375684  49462.762761  50320.099364  51635.971958   \n",
              "\n",
              "           1685          1686          1687          1688          1689  \n",
              "0  52284.534042  53787.441843  53794.144663  53906.568245  54039.068275  \n",
              "1  51846.697098  53302.761655  53311.748236  53420.610255  53552.744094  \n",
              "2  51846.697098  53302.761655  53311.748236  53420.610255  53552.744094  \n",
              "3  51761.125374  53200.978374  53210.803414  53318.354251  53450.351729  \n",
              "4  51640.871410  53416.836297  53407.809354  53544.841021  53679.850968  \n",
              "\n",
              "[5 rows x 1690 columns]"
            ],
            "text/html": [
              "\n",
              "  <div id=\"df-2e81a844-2b5c-442c-9314-3e1e416351c5\" class=\"colab-df-container\">\n",
              "    <div>\n",
              "<style scoped>\n",
              "    .dataframe tbody tr th:only-of-type {\n",
              "        vertical-align: middle;\n",
              "    }\n",
              "\n",
              "    .dataframe tbody tr th {\n",
              "        vertical-align: top;\n",
              "    }\n",
              "\n",
              "    .dataframe thead th {\n",
              "        text-align: right;\n",
              "    }\n",
              "</style>\n",
              "<table border=\"1\" class=\"dataframe\">\n",
              "  <thead>\n",
              "    <tr style=\"text-align: right;\">\n",
              "      <th></th>\n",
              "      <th>0</th>\n",
              "      <th>1</th>\n",
              "      <th>2</th>\n",
              "      <th>3</th>\n",
              "      <th>4</th>\n",
              "      <th>5</th>\n",
              "      <th>6</th>\n",
              "      <th>7</th>\n",
              "      <th>8</th>\n",
              "      <th>9</th>\n",
              "      <th>...</th>\n",
              "      <th>1680</th>\n",
              "      <th>1681</th>\n",
              "      <th>1682</th>\n",
              "      <th>1683</th>\n",
              "      <th>1684</th>\n",
              "      <th>1685</th>\n",
              "      <th>1686</th>\n",
              "      <th>1687</th>\n",
              "      <th>1688</th>\n",
              "      <th>1689</th>\n",
              "    </tr>\n",
              "  </thead>\n",
              "  <tbody>\n",
              "    <tr>\n",
              "      <th>0</th>\n",
              "      <td>0.000000</td>\n",
              "      <td>540.832691</td>\n",
              "      <td>540.832691</td>\n",
              "      <td>672.011905</td>\n",
              "      <td>1712.337584</td>\n",
              "      <td>1820.027472</td>\n",
              "      <td>8384.515490</td>\n",
              "      <td>8387.514531</td>\n",
              "      <td>8414.992573</td>\n",
              "      <td>8414.992573</td>\n",
              "      <td>...</td>\n",
              "      <td>49110.101812</td>\n",
              "      <td>49492.525698</td>\n",
              "      <td>50040.399679</td>\n",
              "      <td>50952.084354</td>\n",
              "      <td>52183.799210</td>\n",
              "      <td>52284.534042</td>\n",
              "      <td>53787.441843</td>\n",
              "      <td>53794.144663</td>\n",
              "      <td>53906.568245</td>\n",
              "      <td>54039.068275</td>\n",
              "    </tr>\n",
              "    <tr>\n",
              "      <th>1</th>\n",
              "      <td>540.832691</td>\n",
              "      <td>0.000000</td>\n",
              "      <td>0.000000</td>\n",
              "      <td>134.536240</td>\n",
              "      <td>1906.724941</td>\n",
              "      <td>2009.975124</td>\n",
              "      <td>8551.818520</td>\n",
              "      <td>8554.232870</td>\n",
              "      <td>8576.456145</td>\n",
              "      <td>8576.456145</td>\n",
              "      <td>...</td>\n",
              "      <td>48661.644033</td>\n",
              "      <td>49046.524851</td>\n",
              "      <td>49590.100827</td>\n",
              "      <td>50512.081723</td>\n",
              "      <td>51727.830034</td>\n",
              "      <td>51846.697098</td>\n",
              "      <td>53302.761655</td>\n",
              "      <td>53311.748236</td>\n",
              "      <td>53420.610255</td>\n",
              "      <td>53552.744094</td>\n",
              "    </tr>\n",
              "    <tr>\n",
              "      <th>2</th>\n",
              "      <td>540.832691</td>\n",
              "      <td>0.000000</td>\n",
              "      <td>0.000000</td>\n",
              "      <td>134.536240</td>\n",
              "      <td>1906.724941</td>\n",
              "      <td>2009.975124</td>\n",
              "      <td>8551.818520</td>\n",
              "      <td>8554.232870</td>\n",
              "      <td>8576.456145</td>\n",
              "      <td>8576.456145</td>\n",
              "      <td>...</td>\n",
              "      <td>48661.644033</td>\n",
              "      <td>49046.524851</td>\n",
              "      <td>49590.100827</td>\n",
              "      <td>50512.081723</td>\n",
              "      <td>51727.830034</td>\n",
              "      <td>51846.697098</td>\n",
              "      <td>53302.761655</td>\n",
              "      <td>53311.748236</td>\n",
              "      <td>53420.610255</td>\n",
              "      <td>53552.744094</td>\n",
              "    </tr>\n",
              "    <tr>\n",
              "      <th>3</th>\n",
              "      <td>672.011905</td>\n",
              "      <td>134.536240</td>\n",
              "      <td>134.536240</td>\n",
              "      <td>0.000000</td>\n",
              "      <td>2001.224625</td>\n",
              "      <td>2102.878979</td>\n",
              "      <td>8627.914000</td>\n",
              "      <td>8630.202779</td>\n",
              "      <td>8651.294701</td>\n",
              "      <td>8651.294701</td>\n",
              "      <td>...</td>\n",
              "      <td>48572.573537</td>\n",
              "      <td>48958.273050</td>\n",
              "      <td>49500.404039</td>\n",
              "      <td>50425.807877</td>\n",
              "      <td>51636.197575</td>\n",
              "      <td>51761.125374</td>\n",
              "      <td>53200.978374</td>\n",
              "      <td>53210.803414</td>\n",
              "      <td>53318.354251</td>\n",
              "      <td>53450.351729</td>\n",
              "    </tr>\n",
              "    <tr>\n",
              "      <th>4</th>\n",
              "      <td>1712.337584</td>\n",
              "      <td>1906.724941</td>\n",
              "      <td>1906.724941</td>\n",
              "      <td>2001.224625</td>\n",
              "      <td>0.000000</td>\n",
              "      <td>107.703296</td>\n",
              "      <td>6676.076692</td>\n",
              "      <td>6678.929555</td>\n",
              "      <td>6705.221846</td>\n",
              "      <td>6705.221846</td>\n",
              "      <td>...</td>\n",
              "      <td>48523.190332</td>\n",
              "      <td>48892.375684</td>\n",
              "      <td>49462.762761</td>\n",
              "      <td>50320.099364</td>\n",
              "      <td>51635.971958</td>\n",
              "      <td>51640.871410</td>\n",
              "      <td>53416.836297</td>\n",
              "      <td>53407.809354</td>\n",
              "      <td>53544.841021</td>\n",
              "      <td>53679.850968</td>\n",
              "    </tr>\n",
              "  </tbody>\n",
              "</table>\n",
              "<p>5 rows × 1690 columns</p>\n",
              "</div>\n",
              "    <div class=\"colab-df-buttons\">\n",
              "\n",
              "  <div class=\"colab-df-container\">\n",
              "    <button class=\"colab-df-convert\" onclick=\"convertToInteractive('df-2e81a844-2b5c-442c-9314-3e1e416351c5')\"\n",
              "            title=\"Convert this dataframe to an interactive table.\"\n",
              "            style=\"display:none;\">\n",
              "\n",
              "  <svg xmlns=\"http://www.w3.org/2000/svg\" height=\"24px\" viewBox=\"0 -960 960 960\">\n",
              "    <path d=\"M120-120v-720h720v720H120Zm60-500h600v-160H180v160Zm220 220h160v-160H400v160Zm0 220h160v-160H400v160ZM180-400h160v-160H180v160Zm440 0h160v-160H620v160ZM180-180h160v-160H180v160Zm440 0h160v-160H620v160Z\"/>\n",
              "  </svg>\n",
              "    </button>\n",
              "\n",
              "  <style>\n",
              "    .colab-df-container {\n",
              "      display:flex;\n",
              "      gap: 12px;\n",
              "    }\n",
              "\n",
              "    .colab-df-convert {\n",
              "      background-color: #E8F0FE;\n",
              "      border: none;\n",
              "      border-radius: 50%;\n",
              "      cursor: pointer;\n",
              "      display: none;\n",
              "      fill: #1967D2;\n",
              "      height: 32px;\n",
              "      padding: 0 0 0 0;\n",
              "      width: 32px;\n",
              "    }\n",
              "\n",
              "    .colab-df-convert:hover {\n",
              "      background-color: #E2EBFA;\n",
              "      box-shadow: 0px 1px 2px rgba(60, 64, 67, 0.3), 0px 1px 3px 1px rgba(60, 64, 67, 0.15);\n",
              "      fill: #174EA6;\n",
              "    }\n",
              "\n",
              "    .colab-df-buttons div {\n",
              "      margin-bottom: 4px;\n",
              "    }\n",
              "\n",
              "    [theme=dark] .colab-df-convert {\n",
              "      background-color: #3B4455;\n",
              "      fill: #D2E3FC;\n",
              "    }\n",
              "\n",
              "    [theme=dark] .colab-df-convert:hover {\n",
              "      background-color: #434B5C;\n",
              "      box-shadow: 0px 1px 3px 1px rgba(0, 0, 0, 0.15);\n",
              "      filter: drop-shadow(0px 1px 2px rgba(0, 0, 0, 0.3));\n",
              "      fill: #FFFFFF;\n",
              "    }\n",
              "  </style>\n",
              "\n",
              "    <script>\n",
              "      const buttonEl =\n",
              "        document.querySelector('#df-2e81a844-2b5c-442c-9314-3e1e416351c5 button.colab-df-convert');\n",
              "      buttonEl.style.display =\n",
              "        google.colab.kernel.accessAllowed ? 'block' : 'none';\n",
              "\n",
              "      async function convertToInteractive(key) {\n",
              "        const element = document.querySelector('#df-2e81a844-2b5c-442c-9314-3e1e416351c5');\n",
              "        const dataTable =\n",
              "          await google.colab.kernel.invokeFunction('convertToInteractive',\n",
              "                                                    [key], {});\n",
              "        if (!dataTable) return;\n",
              "\n",
              "        const docLinkHtml = 'Like what you see? Visit the ' +\n",
              "          '<a target=\"_blank\" href=https://colab.research.google.com/notebooks/data_table.ipynb>data table notebook</a>'\n",
              "          + ' to learn more about interactive tables.';\n",
              "        element.innerHTML = '';\n",
              "        dataTable['output_type'] = 'display_data';\n",
              "        await google.colab.output.renderOutput(dataTable, element);\n",
              "        const docLink = document.createElement('div');\n",
              "        docLink.innerHTML = docLinkHtml;\n",
              "        element.appendChild(docLink);\n",
              "      }\n",
              "    </script>\n",
              "  </div>\n",
              "\n",
              "\n",
              "<div id=\"df-ecfacf7c-67a1-43fd-a356-c7a1463ec473\">\n",
              "  <button class=\"colab-df-quickchart\" onclick=\"quickchart('df-ecfacf7c-67a1-43fd-a356-c7a1463ec473')\"\n",
              "            title=\"Suggest charts\"\n",
              "            style=\"display:none;\">\n",
              "\n",
              "<svg xmlns=\"http://www.w3.org/2000/svg\" height=\"24px\"viewBox=\"0 0 24 24\"\n",
              "     width=\"24px\">\n",
              "    <g>\n",
              "        <path d=\"M19 3H5c-1.1 0-2 .9-2 2v14c0 1.1.9 2 2 2h14c1.1 0 2-.9 2-2V5c0-1.1-.9-2-2-2zM9 17H7v-7h2v7zm4 0h-2V7h2v10zm4 0h-2v-4h2v4z\"/>\n",
              "    </g>\n",
              "</svg>\n",
              "  </button>\n",
              "\n",
              "<style>\n",
              "  .colab-df-quickchart {\n",
              "      --bg-color: #E8F0FE;\n",
              "      --fill-color: #1967D2;\n",
              "      --hover-bg-color: #E2EBFA;\n",
              "      --hover-fill-color: #174EA6;\n",
              "      --disabled-fill-color: #AAA;\n",
              "      --disabled-bg-color: #DDD;\n",
              "  }\n",
              "\n",
              "  [theme=dark] .colab-df-quickchart {\n",
              "      --bg-color: #3B4455;\n",
              "      --fill-color: #D2E3FC;\n",
              "      --hover-bg-color: #434B5C;\n",
              "      --hover-fill-color: #FFFFFF;\n",
              "      --disabled-bg-color: #3B4455;\n",
              "      --disabled-fill-color: #666;\n",
              "  }\n",
              "\n",
              "  .colab-df-quickchart {\n",
              "    background-color: var(--bg-color);\n",
              "    border: none;\n",
              "    border-radius: 50%;\n",
              "    cursor: pointer;\n",
              "    display: none;\n",
              "    fill: var(--fill-color);\n",
              "    height: 32px;\n",
              "    padding: 0;\n",
              "    width: 32px;\n",
              "  }\n",
              "\n",
              "  .colab-df-quickchart:hover {\n",
              "    background-color: var(--hover-bg-color);\n",
              "    box-shadow: 0 1px 2px rgba(60, 64, 67, 0.3), 0 1px 3px 1px rgba(60, 64, 67, 0.15);\n",
              "    fill: var(--button-hover-fill-color);\n",
              "  }\n",
              "\n",
              "  .colab-df-quickchart-complete:disabled,\n",
              "  .colab-df-quickchart-complete:disabled:hover {\n",
              "    background-color: var(--disabled-bg-color);\n",
              "    fill: var(--disabled-fill-color);\n",
              "    box-shadow: none;\n",
              "  }\n",
              "\n",
              "  .colab-df-spinner {\n",
              "    border: 2px solid var(--fill-color);\n",
              "    border-color: transparent;\n",
              "    border-bottom-color: var(--fill-color);\n",
              "    animation:\n",
              "      spin 1s steps(1) infinite;\n",
              "  }\n",
              "\n",
              "  @keyframes spin {\n",
              "    0% {\n",
              "      border-color: transparent;\n",
              "      border-bottom-color: var(--fill-color);\n",
              "      border-left-color: var(--fill-color);\n",
              "    }\n",
              "    20% {\n",
              "      border-color: transparent;\n",
              "      border-left-color: var(--fill-color);\n",
              "      border-top-color: var(--fill-color);\n",
              "    }\n",
              "    30% {\n",
              "      border-color: transparent;\n",
              "      border-left-color: var(--fill-color);\n",
              "      border-top-color: var(--fill-color);\n",
              "      border-right-color: var(--fill-color);\n",
              "    }\n",
              "    40% {\n",
              "      border-color: transparent;\n",
              "      border-right-color: var(--fill-color);\n",
              "      border-top-color: var(--fill-color);\n",
              "    }\n",
              "    60% {\n",
              "      border-color: transparent;\n",
              "      border-right-color: var(--fill-color);\n",
              "    }\n",
              "    80% {\n",
              "      border-color: transparent;\n",
              "      border-right-color: var(--fill-color);\n",
              "      border-bottom-color: var(--fill-color);\n",
              "    }\n",
              "    90% {\n",
              "      border-color: transparent;\n",
              "      border-bottom-color: var(--fill-color);\n",
              "    }\n",
              "  }\n",
              "</style>\n",
              "\n",
              "  <script>\n",
              "    async function quickchart(key) {\n",
              "      const quickchartButtonEl =\n",
              "        document.querySelector('#' + key + ' button');\n",
              "      quickchartButtonEl.disabled = true;  // To prevent multiple clicks.\n",
              "      quickchartButtonEl.classList.add('colab-df-spinner');\n",
              "      try {\n",
              "        const charts = await google.colab.kernel.invokeFunction(\n",
              "            'suggestCharts', [key], {});\n",
              "      } catch (error) {\n",
              "        console.error('Error during call to suggestCharts:', error);\n",
              "      }\n",
              "      quickchartButtonEl.classList.remove('colab-df-spinner');\n",
              "      quickchartButtonEl.classList.add('colab-df-quickchart-complete');\n",
              "    }\n",
              "    (() => {\n",
              "      let quickchartButtonEl =\n",
              "        document.querySelector('#df-ecfacf7c-67a1-43fd-a356-c7a1463ec473 button');\n",
              "      quickchartButtonEl.style.display =\n",
              "        google.colab.kernel.accessAllowed ? 'block' : 'none';\n",
              "    })();\n",
              "  </script>\n",
              "</div>\n",
              "    </div>\n",
              "  </div>\n"
            ]
          },
          "metadata": {},
          "execution_count": 6
        }
      ],
      "source": [
        "#Calculate the distances between points and their indices\n",
        "distance_matrix = cdists(coordinates_data.values)\n",
        "display(distance_matrix.shape)\n",
        "distance_df = pd.DataFrame(distance_matrix)\n",
        "idxx =distance_df.index\n",
        "distance_df.head()"
      ]
    },
    {
      "cell_type": "code",
      "source": [
        "# In this cell, run your script for the Spatial leave-One-Out cross-validation\n",
        "# with 15-nearest neighbor regression model and visualize the results as\n",
        "# requested in the task assignment.\n",
        "#Making 2D matrix to save cIndex and defining the distance parameter or various radiuses\n",
        "Radius = []\n",
        "C = []\n",
        "for i, j in enumerate([radius for radius in range(0, 251, 100)]):\n",
        "    # Identifying the nearby points and then later removing them from the data set.\n",
        "    zf = []\n",
        "    for f in range(len(output_data.values)):\n",
        "        nearby = [index for index, distance in enumerate(distance_matrix[f]) if distance <= j]\n",
        "        zff = [f]  # Directly use the index f\n",
        "        for jj in nearby:\n",
        "            if jj not in zff:\n",
        "                zff.append(jj)\n",
        "        zf.append(zff)\n",
        "    Pred = np.zeros(output_data.shape)\n",
        "    for _, k in enumerate(zf):\n",
        "        # Excluding the nearby data\n",
        "        X = np.delete(input_data_standardized, k, axis=0)\n",
        "        y = np.delete(output_data.values, k, axis=0)\n",
        "        # Define and train the model based on KNN=15\n",
        "        KNN = KNeighborsRegressor(n_neighbors=min(15, len(X)))\n",
        "        KNN.fit(X, y)\n",
        "        # Collecting the predicted y for c-index calculation\n",
        "        Pred[k] = KNN.predict(input_data_standardized[k])\n",
        "    CC = cindex(output_data.values, Pred)\n",
        "    # Displaying radius and c index at each radius to visualize the progress.\n",
        "    print(f'Radius: {j} and C-index:{CC:.2f}')\n",
        "    # Saving data for later visualization\n",
        "    Radius.append(j)\n",
        "    C.append(CC)"
      ],
      "metadata": {
        "id": "tMF4etFVX--z",
        "outputId": "e9dc8dc8-b220-430b-da4d-49f9d5409d0f",
        "colab": {
          "base_uri": "https://localhost:8080/"
        }
      },
      "execution_count": 32,
      "outputs": [
        {
          "output_type": "stream",
          "name": "stdout",
          "text": [
            "Radius: 0 and C-index:0.72\n",
            "Radius: 100 and C-index:0.68\n",
            "Radius: 200 and C-index:0.59\n"
          ]
        }
      ]
    },
    {
      "cell_type": "code",
      "execution_count": 33,
      "metadata": {
        "id": "Uh1W2xN-O3yo",
        "outputId": "8f0bc4d9-8087-4ca9-df26-697f97fe3079",
        "colab": {
          "base_uri": "https://localhost:8080/",
          "height": 469
        }
      },
      "outputs": [
        {
          "output_type": "execute_result",
          "data": {
            "text/plain": [
              "Text(0.5, 1.0, 'C-index vs Radius')"
            ]
          },
          "metadata": {},
          "execution_count": 33
        },
        {
          "output_type": "display_data",
          "data": {
            "text/plain": [
              "<Figure size 640x480 with 1 Axes>"
            ],
            "image/png": "[encoded data removed]"
          },
          "metadata": {}
        }
      ],
      "source": [
        "#Data visualization\n",
        "plt.plot(Radius, C)\n",
        "plt.title('C-index vs Radius')"
      ]
    },
    {
      "cell_type": "markdown",
      "metadata": {
        "id": "IZL_5MaFO3yp"
      },
      "source": [
        "### Interpretation of the results"
      ]
    },
    {
      "cell_type": "code",
      "execution_count": null,
      "metadata": {
        "id": "iW6lJoQAO3yp"
      },
      "outputs": [],
      "source": [
        "# In this cell, give a brief commentary on the results, what happens to the prediction\n",
        "# performance as the prediction distance increases?"
      ]
    }
  ],
  "metadata": {
    "accelerator": "TPU",
    "colab": {
      "provenance": [],
      "include_colab_link": true
    },
    "kernelspec": {
      "display_name": "Python 3",
      "name": "python3"
    },
    "language_info": {
      "codemirror_mode": {
        "name": "ipython",
        "version": 3
      },
      "file_extension": ".py",
      "mimetype": "text/x-python",
      "name": "python",
      "nbconvert_exporter": "python",
      "pygments_lexer": "ipython3",
      "version": "3.11.4"
    },
    "toc": {
      "base_numbering": 1,
      "nav_menu": {},
      "number_sections": false,
      "sideBar": true,
      "skip_h1_title": false,
      "title_cell": "Table of Contents",
      "title_sidebar": "Contents",
      "toc_cell": false,
      "toc_position": {},
      "toc_section_display": true,
      "toc_window_display": true
    },
    "varInspector": {
      "cols": {
        "lenName": 16,
        "lenType": 16,
        "lenVar": 40
      },
      "kernels_config": {
        "python": {
          "delete_cmd_postfix": "",
          "delete_cmd_prefix": "del ",
          "library": "var_list.py",
          "varRefreshCmd": "print(var_dic_list())"
        },
        "r": {
          "delete_cmd_postfix": ") ",
          "delete_cmd_prefix": "rm(",
          "library": "var_list.r",
          "varRefreshCmd": "cat(var_dic_list()) "
        }
      },
      "types_to_exclude": [
        "module",
        "function",
        "builtin_function_or_method",
        "instance",
        "_Feature"
      ],
      "window_display": false
    }
  },
  "nbformat": 4,
  "nbformat_minor": 0
}